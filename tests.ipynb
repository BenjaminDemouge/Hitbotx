{
 "cells": [
  {
   "cell_type": "code",
   "execution_count": 95,
   "metadata": {},
   "outputs": [],
   "source": [
    "import pandas as pd\n",
    "import random as rd\n",
    "import numpy as np \n",
    "import datetime\n",
    "import matplotlib.pyplot as plt\n",
    "from chatbot import Chatbot\n",
    "import nltk\n",
    "from nltk.stem import WordNetLemmatizer"
   ]
  },
  {
   "cell_type": "code",
   "execution_count": 108,
   "metadata": {},
   "outputs": [
    {
     "data": {
      "text/html": [
       "<div>\n",
       "<style scoped>\n",
       "    .dataframe tbody tr th:only-of-type {\n",
       "        vertical-align: middle;\n",
       "    }\n",
       "\n",
       "    .dataframe tbody tr th {\n",
       "        vertical-align: top;\n",
       "    }\n",
       "\n",
       "    .dataframe thead th {\n",
       "        text-align: right;\n",
       "    }\n",
       "</style>\n",
       "<table border=\"1\" class=\"dataframe\">\n",
       "  <thead>\n",
       "    <tr style=\"text-align: right;\">\n",
       "      <th></th>\n",
       "      <th>instance_id</th>\n",
       "      <th>artist_name</th>\n",
       "      <th>track_name</th>\n",
       "      <th>popularity</th>\n",
       "      <th>acousticness</th>\n",
       "      <th>danceability</th>\n",
       "      <th>duration_ms</th>\n",
       "      <th>energy</th>\n",
       "      <th>instrumentalness</th>\n",
       "      <th>key</th>\n",
       "      <th>liveness</th>\n",
       "      <th>loudness</th>\n",
       "      <th>mode</th>\n",
       "      <th>speechiness</th>\n",
       "      <th>tempo</th>\n",
       "      <th>obtained_date</th>\n",
       "      <th>valence</th>\n",
       "      <th>music_genre</th>\n",
       "    </tr>\n",
       "  </thead>\n",
       "  <tbody>\n",
       "    <tr>\n",
       "      <th>0</th>\n",
       "      <td>32894.0</td>\n",
       "      <td>Röyksopp</td>\n",
       "      <td>Röyksopp's Night Out</td>\n",
       "      <td>27.0</td>\n",
       "      <td>0.00468</td>\n",
       "      <td>0.652</td>\n",
       "      <td>-1.0</td>\n",
       "      <td>0.941</td>\n",
       "      <td>0.79200</td>\n",
       "      <td>A#</td>\n",
       "      <td>0.115</td>\n",
       "      <td>-5.201</td>\n",
       "      <td>Minor</td>\n",
       "      <td>0.0748</td>\n",
       "      <td>100.889</td>\n",
       "      <td>4-Apr</td>\n",
       "      <td>0.759</td>\n",
       "      <td>Electronic</td>\n",
       "    </tr>\n",
       "    <tr>\n",
       "      <th>1</th>\n",
       "      <td>46652.0</td>\n",
       "      <td>Thievery Corporation</td>\n",
       "      <td>The Shining Path</td>\n",
       "      <td>31.0</td>\n",
       "      <td>0.01270</td>\n",
       "      <td>0.622</td>\n",
       "      <td>218293.0</td>\n",
       "      <td>0.890</td>\n",
       "      <td>0.95000</td>\n",
       "      <td>D</td>\n",
       "      <td>0.124</td>\n",
       "      <td>-7.043</td>\n",
       "      <td>Minor</td>\n",
       "      <td>0.0300</td>\n",
       "      <td>115.00200000000001</td>\n",
       "      <td>4-Apr</td>\n",
       "      <td>0.531</td>\n",
       "      <td>Electronic</td>\n",
       "    </tr>\n",
       "    <tr>\n",
       "      <th>2</th>\n",
       "      <td>30097.0</td>\n",
       "      <td>Dillon Francis</td>\n",
       "      <td>Hurricane</td>\n",
       "      <td>28.0</td>\n",
       "      <td>0.00306</td>\n",
       "      <td>0.620</td>\n",
       "      <td>215613.0</td>\n",
       "      <td>0.755</td>\n",
       "      <td>0.01180</td>\n",
       "      <td>G#</td>\n",
       "      <td>0.534</td>\n",
       "      <td>-4.617</td>\n",
       "      <td>Major</td>\n",
       "      <td>0.0345</td>\n",
       "      <td>127.994</td>\n",
       "      <td>4-Apr</td>\n",
       "      <td>0.333</td>\n",
       "      <td>Electronic</td>\n",
       "    </tr>\n",
       "    <tr>\n",
       "      <th>3</th>\n",
       "      <td>62177.0</td>\n",
       "      <td>Dubloadz</td>\n",
       "      <td>Nitro</td>\n",
       "      <td>34.0</td>\n",
       "      <td>0.02540</td>\n",
       "      <td>0.774</td>\n",
       "      <td>166875.0</td>\n",
       "      <td>0.700</td>\n",
       "      <td>0.00253</td>\n",
       "      <td>C#</td>\n",
       "      <td>0.157</td>\n",
       "      <td>-4.498</td>\n",
       "      <td>Major</td>\n",
       "      <td>0.2390</td>\n",
       "      <td>128.014</td>\n",
       "      <td>4-Apr</td>\n",
       "      <td>0.270</td>\n",
       "      <td>Electronic</td>\n",
       "    </tr>\n",
       "    <tr>\n",
       "      <th>4</th>\n",
       "      <td>24907.0</td>\n",
       "      <td>What So Not</td>\n",
       "      <td>Divide &amp; Conquer</td>\n",
       "      <td>32.0</td>\n",
       "      <td>0.00465</td>\n",
       "      <td>0.638</td>\n",
       "      <td>222369.0</td>\n",
       "      <td>0.587</td>\n",
       "      <td>0.90900</td>\n",
       "      <td>F#</td>\n",
       "      <td>0.157</td>\n",
       "      <td>-6.266</td>\n",
       "      <td>Major</td>\n",
       "      <td>0.0413</td>\n",
       "      <td>145.036</td>\n",
       "      <td>4-Apr</td>\n",
       "      <td>0.323</td>\n",
       "      <td>Electronic</td>\n",
       "    </tr>\n",
       "  </tbody>\n",
       "</table>\n",
       "</div>"
      ],
      "text/plain": [
       "   instance_id           artist_name            track_name  popularity  \\\n",
       "0      32894.0              Röyksopp  Röyksopp's Night Out        27.0   \n",
       "1      46652.0  Thievery Corporation      The Shining Path        31.0   \n",
       "2      30097.0        Dillon Francis             Hurricane        28.0   \n",
       "3      62177.0              Dubloadz                 Nitro        34.0   \n",
       "4      24907.0           What So Not      Divide & Conquer        32.0   \n",
       "\n",
       "   acousticness  danceability  duration_ms  energy  instrumentalness key  \\\n",
       "0       0.00468         0.652         -1.0   0.941           0.79200  A#   \n",
       "1       0.01270         0.622     218293.0   0.890           0.95000   D   \n",
       "2       0.00306         0.620     215613.0   0.755           0.01180  G#   \n",
       "3       0.02540         0.774     166875.0   0.700           0.00253  C#   \n",
       "4       0.00465         0.638     222369.0   0.587           0.90900  F#   \n",
       "\n",
       "   liveness  loudness   mode  speechiness               tempo obtained_date  \\\n",
       "0     0.115    -5.201  Minor       0.0748             100.889         4-Apr   \n",
       "1     0.124    -7.043  Minor       0.0300  115.00200000000001         4-Apr   \n",
       "2     0.534    -4.617  Major       0.0345             127.994         4-Apr   \n",
       "3     0.157    -4.498  Major       0.2390             128.014         4-Apr   \n",
       "4     0.157    -6.266  Major       0.0413             145.036         4-Apr   \n",
       "\n",
       "   valence music_genre  \n",
       "0    0.759  Electronic  \n",
       "1    0.531  Electronic  \n",
       "2    0.333  Electronic  \n",
       "3    0.270  Electronic  \n",
       "4    0.323  Electronic  "
      ]
     },
     "execution_count": 108,
     "metadata": {},
     "output_type": "execute_result"
    }
   ],
   "source": [
    "df = pd.read_csv('music_genre.csv')\n",
    "df.head()"
   ]
  },
  {
   "cell_type": "code",
   "execution_count": 109,
   "metadata": {},
   "outputs": [],
   "source": [
    "def clean_up_data(df):\n",
    "    #We get rid of the useless parameters \n",
    "    df = df.drop(['acousticness','instrumentalness','key','liveness','loudness','mode','speechiness','obtained_date','valence'], axis=1)\n",
    "    df = df.dropna()\n",
    "\n",
    "    # instance_id should be an integer\n",
    "    df[\"instance_id\"] = [int(x) for x in df[\"instance_id\"]]\n",
    "\n",
    "    #modifie the df[\"danceability\"] to be in %\n",
    "    df[\"danceability\"] = round(df[\"danceability\"]*100)\n",
    "\n",
    "    #drop the  line if df[\"duration_ms\"] is Nan and modifie the df[\"duration_ms\"] to be in minutes\n",
    "    df = df[df[\"duration_ms\"].notnull()]\n",
    "    df[\"duration_ms\"] = df[\"duration_ms\"].apply(lambda x: f'{round(x/1000)//60}:{round(x/1000)%60}')\n",
    "    df = df.rename(columns={\"duration_ms\": \"duration\"})\n",
    "\n",
    "    #modifie the df[\"energy\"] to be in %\n",
    "    df[\"energy\"] = round(df[\"energy\"]*100)\n",
    "\n",
    "    #replace all ? by 0 in the df['tempo']\n",
    "    df['tempo'] = df['tempo'].replace('?',0)\n",
    "    #convert the tempo to float and round it\n",
    "    df['tempo'] = df['tempo'].apply(lambda x: round(float(x)))\n",
    "\n",
    "    return df"
   ]
  },
  {
   "cell_type": "code",
   "execution_count": 110,
   "metadata": {},
   "outputs": [
    {
     "data": {
      "text/html": [
       "<div>\n",
       "<style scoped>\n",
       "    .dataframe tbody tr th:only-of-type {\n",
       "        vertical-align: middle;\n",
       "    }\n",
       "\n",
       "    .dataframe tbody tr th {\n",
       "        vertical-align: top;\n",
       "    }\n",
       "\n",
       "    .dataframe thead th {\n",
       "        text-align: right;\n",
       "    }\n",
       "</style>\n",
       "<table border=\"1\" class=\"dataframe\">\n",
       "  <thead>\n",
       "    <tr style=\"text-align: right;\">\n",
       "      <th></th>\n",
       "      <th>instance_id</th>\n",
       "      <th>artist_name</th>\n",
       "      <th>track_name</th>\n",
       "      <th>popularity</th>\n",
       "      <th>danceability</th>\n",
       "      <th>duration</th>\n",
       "      <th>energy</th>\n",
       "      <th>tempo</th>\n",
       "      <th>music_genre</th>\n",
       "    </tr>\n",
       "  </thead>\n",
       "  <tbody>\n",
       "    <tr>\n",
       "      <th>0</th>\n",
       "      <td>32894</td>\n",
       "      <td>Röyksopp</td>\n",
       "      <td>Röyksopp's Night Out</td>\n",
       "      <td>27.0</td>\n",
       "      <td>65.0</td>\n",
       "      <td>0:0</td>\n",
       "      <td>94.0</td>\n",
       "      <td>101</td>\n",
       "      <td>Electronic</td>\n",
       "    </tr>\n",
       "    <tr>\n",
       "      <th>1</th>\n",
       "      <td>46652</td>\n",
       "      <td>Thievery Corporation</td>\n",
       "      <td>The Shining Path</td>\n",
       "      <td>31.0</td>\n",
       "      <td>62.0</td>\n",
       "      <td>3:38</td>\n",
       "      <td>89.0</td>\n",
       "      <td>115</td>\n",
       "      <td>Electronic</td>\n",
       "    </tr>\n",
       "    <tr>\n",
       "      <th>2</th>\n",
       "      <td>30097</td>\n",
       "      <td>Dillon Francis</td>\n",
       "      <td>Hurricane</td>\n",
       "      <td>28.0</td>\n",
       "      <td>62.0</td>\n",
       "      <td>3:36</td>\n",
       "      <td>76.0</td>\n",
       "      <td>128</td>\n",
       "      <td>Electronic</td>\n",
       "    </tr>\n",
       "    <tr>\n",
       "      <th>3</th>\n",
       "      <td>62177</td>\n",
       "      <td>Dubloadz</td>\n",
       "      <td>Nitro</td>\n",
       "      <td>34.0</td>\n",
       "      <td>77.0</td>\n",
       "      <td>2:47</td>\n",
       "      <td>70.0</td>\n",
       "      <td>128</td>\n",
       "      <td>Electronic</td>\n",
       "    </tr>\n",
       "    <tr>\n",
       "      <th>4</th>\n",
       "      <td>24907</td>\n",
       "      <td>What So Not</td>\n",
       "      <td>Divide &amp; Conquer</td>\n",
       "      <td>32.0</td>\n",
       "      <td>64.0</td>\n",
       "      <td>3:42</td>\n",
       "      <td>59.0</td>\n",
       "      <td>145</td>\n",
       "      <td>Electronic</td>\n",
       "    </tr>\n",
       "  </tbody>\n",
       "</table>\n",
       "</div>"
      ],
      "text/plain": [
       "   instance_id           artist_name            track_name  popularity  \\\n",
       "0        32894              Röyksopp  Röyksopp's Night Out        27.0   \n",
       "1        46652  Thievery Corporation      The Shining Path        31.0   \n",
       "2        30097        Dillon Francis             Hurricane        28.0   \n",
       "3        62177              Dubloadz                 Nitro        34.0   \n",
       "4        24907           What So Not      Divide & Conquer        32.0   \n",
       "\n",
       "   danceability duration  energy  tempo music_genre  \n",
       "0          65.0      0:0    94.0    101  Electronic  \n",
       "1          62.0     3:38    89.0    115  Electronic  \n",
       "2          62.0     3:36    76.0    128  Electronic  \n",
       "3          77.0     2:47    70.0    128  Electronic  \n",
       "4          64.0     3:42    59.0    145  Electronic  "
      ]
     },
     "execution_count": 110,
     "metadata": {},
     "output_type": "execute_result"
    }
   ],
   "source": [
    "df = clean_up_data(df)\n",
    "df.head()"
   ]
  },
  {
   "cell_type": "code",
   "execution_count": 97,
   "metadata": {},
   "outputs": [
    {
     "data": {
      "text/html": [
       "<div>\n",
       "<style scoped>\n",
       "    .dataframe tbody tr th:only-of-type {\n",
       "        vertical-align: middle;\n",
       "    }\n",
       "\n",
       "    .dataframe tbody tr th {\n",
       "        vertical-align: top;\n",
       "    }\n",
       "\n",
       "    .dataframe thead th {\n",
       "        text-align: right;\n",
       "    }\n",
       "</style>\n",
       "<table border=\"1\" class=\"dataframe\">\n",
       "  <thead>\n",
       "    <tr style=\"text-align: right;\">\n",
       "      <th></th>\n",
       "      <th>instance_id</th>\n",
       "      <th>artist_name</th>\n",
       "      <th>track_name</th>\n",
       "      <th>popularity</th>\n",
       "      <th>acousticness</th>\n",
       "      <th>danceability</th>\n",
       "      <th>duration_ms</th>\n",
       "      <th>energy</th>\n",
       "      <th>instrumentalness</th>\n",
       "      <th>key</th>\n",
       "      <th>liveness</th>\n",
       "      <th>loudness</th>\n",
       "      <th>mode</th>\n",
       "      <th>speechiness</th>\n",
       "      <th>tempo</th>\n",
       "      <th>obtained_date</th>\n",
       "      <th>valence</th>\n",
       "      <th>music_genre</th>\n",
       "    </tr>\n",
       "  </thead>\n",
       "  <tbody>\n",
       "    <tr>\n",
       "      <th>8446</th>\n",
       "      <td>84921.0</td>\n",
       "      <td>Ling tosite sigure</td>\n",
       "      <td>Turbocharger ON</td>\n",
       "      <td>18.0</td>\n",
       "      <td>0.003</td>\n",
       "      <td>0.246</td>\n",
       "      <td>317667.0</td>\n",
       "      <td>0.882</td>\n",
       "      <td>0.845</td>\n",
       "      <td>F</td>\n",
       "      <td>0.367</td>\n",
       "      <td>-2.887</td>\n",
       "      <td>Minor</td>\n",
       "      <td>0.076</td>\n",
       "      <td>131.558</td>\n",
       "      <td>4-Apr</td>\n",
       "      <td>0.275</td>\n",
       "      <td>Anime</td>\n",
       "    </tr>\n",
       "  </tbody>\n",
       "</table>\n",
       "</div>"
      ],
      "text/plain": [
       "      instance_id         artist_name       track_name  popularity  \\\n",
       "8446      84921.0  Ling tosite sigure  Turbocharger ON        18.0   \n",
       "\n",
       "      acousticness  danceability  duration_ms  energy  instrumentalness key  \\\n",
       "8446         0.003         0.246     317667.0   0.882             0.845   F   \n",
       "\n",
       "      liveness  loudness   mode  speechiness    tempo obtained_date  valence  \\\n",
       "8446     0.367    -2.887  Minor        0.076  131.558         4-Apr    0.275   \n",
       "\n",
       "     music_genre  \n",
       "8446       Anime  "
      ]
     },
     "execution_count": 97,
     "metadata": {},
     "output_type": "execute_result"
    }
   ],
   "source": [
    "df_random = df.sample(n=1)\n",
    "df_random"
   ]
  },
  {
   "cell_type": "code",
   "execution_count": 98,
   "metadata": {},
   "outputs": [
    {
     "data": {
      "text/plain": [
       "array(['Electronic', 'Anime', nan, 'Jazz', 'Alternative', 'Country',\n",
       "       'Rap', 'Blues', 'Rock', 'Classical', 'Hip-Hop'], dtype=object)"
      ]
     },
     "execution_count": 98,
     "metadata": {},
     "output_type": "execute_result"
    }
   ],
   "source": [
    "#display all the genre\n",
    "df['music_genre'].unique()"
   ]
  },
  {
   "cell_type": "code",
   "execution_count": 65,
   "metadata": {},
   "outputs": [],
   "source": [
    "def clean_up_sentence(sentence): # clean up the sentence by tokenizing it to words and lemmatizing the words \n",
    "    sentence_words = nltk.word_tokenize(sentence) # tokenize the sentence into words\n",
    "    sentence_words = [WordNetLemmatizer().lemmatize(word.lower()) for word in sentence_words] # lemmatize the words inside the sentence_words\n",
    "    return sentence_words # return the sentence_words list \n",
    "\n",
    "def bag_of_words(sentence, words): # create the bag of words for the sentence\n",
    "    sentence_words = clean_up_sentence(sentence)  # clean up the sentence\n",
    "    bag = [0] * len(words) # create an empty list with the length of the words list\n",
    "    for s in sentence_words: # loop through the sentence_words tokenized into words and lemmatized\n",
    "        for i, word in enumerate(words): # loop through the words list\n",
    "            if word == s: # if the word is equal to the word in the sentence_words list then 0 is replace by 1 in the bag list\n",
    "                bag[i] = 1\n",
    "    return np.array(bag) # return the bag list in a numpy array format"
   ]
  },
  {
   "cell_type": "code",
   "execution_count": 66,
   "metadata": {},
   "outputs": [
    {
     "name": "stdout",
     "output_type": "stream",
     "text": [
      "['could', 'you', 'give', 'me', 'a', 'random', 'music', 'from', 'the', 'genre', 'rock', 'or', 'rap', '?']\n"
     ]
    }
   ],
   "source": [
    "sentence = \"could you give me a random rock or rap music with a high energy?\"\n",
    "sentence_2 = \"could you give me a random music from the genre rock or rap?\"\n",
    "sentence_3 = \"could you give me a random music with a high energy and a high tempo?\"\n",
    "words = clean_up_sentence(sentence_2)\n",
    "print(words)\n"
   ]
  },
  {
   "cell_type": "code",
   "execution_count": 67,
   "metadata": {},
   "outputs": [],
   "source": [
    "def clean_up_genre(genre): # clean up the genre by tokenizing it to words\n",
    "    genres = []\n",
    "    genre_words = nltk.word_tokenize(genre) # tokenize the genre into words\n",
    "    #list of all music_genre from df\n",
    "    music_genre = df['music_genre'].unique()\n",
    "    #list of all music_genre from df in lower case\n",
    "    music_genre_lower = [x.lower() for x in music_genre]\n",
    "    #look the word inside the genre_words list and if it is in the music_genre_lower list then return the genre\n",
    "    for word in genre_words:\n",
    "        if word.lower() in music_genre_lower:\n",
    "            genres.append(word)\n",
    "\n",
    "    return genres # return the genres' list"
   ]
  },
  {
   "cell_type": "code",
   "execution_count": 81,
   "metadata": {},
   "outputs": [
    {
     "name": "stdout",
     "output_type": "stream",
     "text": [
      "['rock', 'rap']\n"
     ]
    },
    {
     "data": {
      "text/html": [
       "<div>\n",
       "<style scoped>\n",
       "    .dataframe tbody tr th:only-of-type {\n",
       "        vertical-align: middle;\n",
       "    }\n",
       "\n",
       "    .dataframe tbody tr th {\n",
       "        vertical-align: top;\n",
       "    }\n",
       "\n",
       "    .dataframe thead th {\n",
       "        text-align: right;\n",
       "    }\n",
       "</style>\n",
       "<table border=\"1\" class=\"dataframe\">\n",
       "  <thead>\n",
       "    <tr style=\"text-align: right;\">\n",
       "      <th></th>\n",
       "      <th>instance_id</th>\n",
       "      <th>artist_name</th>\n",
       "      <th>track_name</th>\n",
       "      <th>popularity</th>\n",
       "      <th>danceability</th>\n",
       "      <th>duration</th>\n",
       "      <th>energy</th>\n",
       "      <th>tempo</th>\n",
       "      <th>music_genre</th>\n",
       "    </tr>\n",
       "  </thead>\n",
       "  <tbody>\n",
       "    <tr>\n",
       "      <th>38779</th>\n",
       "      <td>85702</td>\n",
       "      <td>WALK THE MOON</td>\n",
       "      <td>Avalanche</td>\n",
       "      <td>58.0</td>\n",
       "      <td>59.0</td>\n",
       "      <td>3:39</td>\n",
       "      <td>86.0</td>\n",
       "      <td>138</td>\n",
       "      <td>Rock</td>\n",
       "    </tr>\n",
       "  </tbody>\n",
       "</table>\n",
       "</div>"
      ],
      "text/plain": [
       "       instance_id    artist_name track_name  popularity  danceability  \\\n",
       "38779        85702  WALK THE MOON  Avalanche        58.0          59.0   \n",
       "\n",
       "      duration  energy  tempo music_genre  \n",
       "38779     3:39    86.0    138        Rock  "
      ]
     },
     "execution_count": 81,
     "metadata": {},
     "output_type": "execute_result"
    }
   ],
   "source": [
    "genres = clean_up_genre(sentence)\n",
    "print(genres)\n",
    "\n",
    "#check if genres is empty\n",
    "if len(genres) == 0:\n",
    "    genres = None \n",
    "\n",
    "if genres is not None:\n",
    "    df_random = df[df[\"music_genre\"].str.lower().isin(genres)]\n",
    "    df_random = df_random.sample(n=1)\n",
    "\n",
    "df_random"
   ]
  },
  {
   "cell_type": "code",
   "execution_count": 86,
   "metadata": {},
   "outputs": [
    {
     "name": "stdout",
     "output_type": "stream",
     "text": [
      "Here is a random Rock music:\n"
     ]
    }
   ],
   "source": [
    "music_genre_chosen = df_random[\"music_genre\"].values[0]\n",
    "text = f\"Here is a random {music_genre_chosen} music:\"\n",
    "print(text)"
   ]
  },
  {
   "cell_type": "code",
   "execution_count": 44,
   "metadata": {},
   "outputs": [
    {
     "name": "stdout",
     "output_type": "stream",
     "text": [
      "rock\n",
      "       instance_id        artist_name      track_name  popularity  \\\n",
      "38801        41909  Twenty One Pilots  Oh Ms Believer        66.0   \n",
      "\n",
      "       danceability duration  energy  tempo music_genre  \n",
      "38801          50.0     3:37    33.0      0        Rock  \n"
     ]
    }
   ],
   "source": [
    "if 'genre' in words:\n",
    "    if words[words.index('genre')+2] == 'or':\n",
    "        genre = [words[words.index('genre')+1],words[words.index('genre')+3]]\n",
    "    genre = [words[words.index('genre') + 1]]\n",
    "    print(genre)\n",
    "    df_random = df[df['music_genre'].str.lower() == genre[0].lower()]\n",
    "    df_random = df_random.sample(n=1)\n",
    "    print(df_random)"
   ]
  },
  {
   "cell_type": "code",
   "execution_count": 99,
   "metadata": {},
   "outputs": [],
   "source": [
    "def clean_up_random_infos(infos):\n",
    "    features = {}\n",
    "    #tokemize the string\n",
    "    infos_words = nltk.word_tokenize(infos)\n",
    "    # if energy is in the string look for the word just before and return add to the energy key the value of that word into features\n",
    "    if 'energy' in infos_words:\n",
    "        energy_index = infos_words.index('energy')\n",
    "        if energy_index > 0:\n",
    "            features['energy'] = infos_words[energy_index - 1]\n",
    "    # if tempo is in the string look for the word just before and return add to the tempo key the value of that word into features\n",
    "    if 'tempo' in infos_words:\n",
    "        tempo_index = infos_words.index('tempo')\n",
    "        if tempo_index > 0:\n",
    "            features['tempo'] = infos_words[tempo_index - 1]\n",
    "    # if popularity is in the string look for the word just before and return add to the pupolarity key the value of that word into features\n",
    "    if 'popularity' in infos_words:\n",
    "        popularity_index = infos_words.index('popularity')\n",
    "        if popularity_index > 0:\n",
    "            features['popularity'] = infos_words[popularity_index - 1]\n",
    "    # if danceability is in the string look for the word just before and return add to the danceability key the value of that word into features\n",
    "    if 'danceability' in infos_words:\n",
    "        danceability_index = infos_words.index('danceability')\n",
    "        if danceability_index > 0:\n",
    "            features['danceability'] = infos_words[danceability_index - 1]\n",
    "    return features\n",
    "\n",
    "def random_music(**kwargs):\n",
    "    text, embed = None, None\n",
    "    infos = kwargs.get('information',None)\n",
    "    genre, artist, danceability, energy, tempo, popularity = clean_up_random_infos(infos)\n",
    "\n",
    "    if infos == None:\n",
    "        df_random = df.sample(n=1)\n",
    "    else:\n",
    "        df_random = df\n",
    "        df_random = df_random[df_random['music_genre'].str.lower() == genre.lower()] if genre != None else df_random\n",
    "        df_random = df_random[df_random['artist_name'].str.lower() == artist.lower()] if artist != None else df_random\n",
    "        df_random = df_random[df_random['danceability'] >= danceability['min']][df_random['danceability']<= danceability['max']] if danceability != None else df_random\n",
    "        df_random = df_random[df_random['energy'] >= energy['min']][df_random['energy']<= energy['max']] if energy != None else df_random\n",
    "        df_random = df_random[df_random['tempo'] >= tempo['min']][df_random['tempo']<= tempo['max']] if tempo != None else df_random\n",
    "        df_random = df_random[df_random['popularity'] >= popularity['min']][df_random['popularity']<= popularity['max']] if popularity != None else df_random\n",
    "        df_random = df_random.sample(n=1)"
   ]
  },
  {
   "cell_type": "code",
   "execution_count": 100,
   "metadata": {},
   "outputs": [],
   "source": [
    "def set_up_random_feature(features, feature_name):\n",
    "    feature = {'min': 0, 'max': 100}\n",
    "    if features[f'{feature_name}'] == 'high':\n",
    "       feature['min'] = df[f'{feature_name}'].mean() \n",
    "       feature['max'] = df[f'{feature_name}'].max()\n",
    "    elif features[f'{feature_name}'] == 'low':\n",
    "        feature['min'] = df[f'{feature_name}'].min()\n",
    "        feature['max'] = df[f'{feature_name}'].mean()\n",
    "    elif features[f'{feature_name}'] == 'medium':\n",
    "        feature['min'] = df[f'{feature_name}'].quantile(0.25)\n",
    "        feature['max'] = df[f'{feature_name}'].quantile(0.75)\n",
    "\n",
    "    return feature\n",
    "    "
   ]
  },
  {
   "cell_type": "code",
   "execution_count": 107,
   "metadata": {},
   "outputs": [
    {
     "data": {
      "text/plain": [
       "{'min': 0, 'max': 108.00916}"
      ]
     },
     "execution_count": 107,
     "metadata": {},
     "output_type": "execute_result"
    }
   ],
   "source": [
    "#test set_up_random_feature\n",
    "features = {'energy': 'high', 'tempo': 'low', 'popularity': 'medium'}\n",
    "set_up_random_feature(features, 'tempo')"
   ]
  },
  {
   "cell_type": "code",
   "execution_count": 92,
   "metadata": {},
   "outputs": [
    {
     "name": "stdout",
     "output_type": "stream",
     "text": [
      "{'energy': 'low', 'tempo': 'high', 'popularity': 'high', 'danceability': 'low'}\n"
     ]
    }
   ],
   "source": [
    "#test the function clean_up_random_infos\n",
    "string = \"a low energy, a high tempo, a low danceability, a high popularity\"\n",
    "test_5 = clean_up_random_infos(string)\n",
    "print(test_5)"
   ]
  },
  {
   "cell_type": "code",
   "execution_count": 8,
   "metadata": {},
   "outputs": [],
   "source": [
    "df = pd.read_csv('music_genre.csv')"
   ]
  },
  {
   "cell_type": "code",
   "execution_count": 9,
   "metadata": {},
   "outputs": [
    {
     "data": {
      "text/html": [
       "<div>\n",
       "<style scoped>\n",
       "    .dataframe tbody tr th:only-of-type {\n",
       "        vertical-align: middle;\n",
       "    }\n",
       "\n",
       "    .dataframe tbody tr th {\n",
       "        vertical-align: top;\n",
       "    }\n",
       "\n",
       "    .dataframe thead th {\n",
       "        text-align: right;\n",
       "    }\n",
       "</style>\n",
       "<table border=\"1\" class=\"dataframe\">\n",
       "  <thead>\n",
       "    <tr style=\"text-align: right;\">\n",
       "      <th></th>\n",
       "      <th>instance_id</th>\n",
       "      <th>artist_name</th>\n",
       "      <th>track_name</th>\n",
       "      <th>popularity</th>\n",
       "      <th>danceability</th>\n",
       "      <th>duration_ms</th>\n",
       "      <th>energy</th>\n",
       "      <th>tempo</th>\n",
       "      <th>music_genre</th>\n",
       "    </tr>\n",
       "  </thead>\n",
       "  <tbody>\n",
       "    <tr>\n",
       "      <th>0</th>\n",
       "      <td>32894.0</td>\n",
       "      <td>Röyksopp</td>\n",
       "      <td>Röyksopp's Night Out</td>\n",
       "      <td>27.0</td>\n",
       "      <td>0.652</td>\n",
       "      <td>-1.0</td>\n",
       "      <td>0.941</td>\n",
       "      <td>100.889</td>\n",
       "      <td>Electronic</td>\n",
       "    </tr>\n",
       "    <tr>\n",
       "      <th>1</th>\n",
       "      <td>46652.0</td>\n",
       "      <td>Thievery Corporation</td>\n",
       "      <td>The Shining Path</td>\n",
       "      <td>31.0</td>\n",
       "      <td>0.622</td>\n",
       "      <td>218293.0</td>\n",
       "      <td>0.890</td>\n",
       "      <td>115.00200000000001</td>\n",
       "      <td>Electronic</td>\n",
       "    </tr>\n",
       "    <tr>\n",
       "      <th>2</th>\n",
       "      <td>30097.0</td>\n",
       "      <td>Dillon Francis</td>\n",
       "      <td>Hurricane</td>\n",
       "      <td>28.0</td>\n",
       "      <td>0.620</td>\n",
       "      <td>215613.0</td>\n",
       "      <td>0.755</td>\n",
       "      <td>127.994</td>\n",
       "      <td>Electronic</td>\n",
       "    </tr>\n",
       "    <tr>\n",
       "      <th>3</th>\n",
       "      <td>62177.0</td>\n",
       "      <td>Dubloadz</td>\n",
       "      <td>Nitro</td>\n",
       "      <td>34.0</td>\n",
       "      <td>0.774</td>\n",
       "      <td>166875.0</td>\n",
       "      <td>0.700</td>\n",
       "      <td>128.014</td>\n",
       "      <td>Electronic</td>\n",
       "    </tr>\n",
       "    <tr>\n",
       "      <th>4</th>\n",
       "      <td>24907.0</td>\n",
       "      <td>What So Not</td>\n",
       "      <td>Divide &amp; Conquer</td>\n",
       "      <td>32.0</td>\n",
       "      <td>0.638</td>\n",
       "      <td>222369.0</td>\n",
       "      <td>0.587</td>\n",
       "      <td>145.036</td>\n",
       "      <td>Electronic</td>\n",
       "    </tr>\n",
       "  </tbody>\n",
       "</table>\n",
       "</div>"
      ],
      "text/plain": [
       "   instance_id           artist_name            track_name  popularity  \\\n",
       "0      32894.0              Röyksopp  Röyksopp's Night Out        27.0   \n",
       "1      46652.0  Thievery Corporation      The Shining Path        31.0   \n",
       "2      30097.0        Dillon Francis             Hurricane        28.0   \n",
       "3      62177.0              Dubloadz                 Nitro        34.0   \n",
       "4      24907.0           What So Not      Divide & Conquer        32.0   \n",
       "\n",
       "   danceability  duration_ms  energy               tempo music_genre  \n",
       "0         0.652         -1.0   0.941             100.889  Electronic  \n",
       "1         0.622     218293.0   0.890  115.00200000000001  Electronic  \n",
       "2         0.620     215613.0   0.755             127.994  Electronic  \n",
       "3         0.774     166875.0   0.700             128.014  Electronic  \n",
       "4         0.638     222369.0   0.587             145.036  Electronic  "
      ]
     },
     "execution_count": 9,
     "metadata": {},
     "output_type": "execute_result"
    }
   ],
   "source": [
    "df = df.drop(['acousticness','instrumentalness','key','liveness','loudness','mode','speechiness','obtained_date','valence'], axis=1)\n",
    "df.head()"
   ]
  },
  {
   "cell_type": "code",
   "execution_count": 16,
   "metadata": {},
   "outputs": [
    {
     "data": {
      "text/plain": [
       "array(['Dillon Francis', 'Eprom', 'Theory of a Deadman', 'Grizfolk',\n",
       "       'Dustin Lynch', 'The Band Of Heathens', 'Luke Combs',\n",
       "       'Possessed by Paul James', 'The Band Of Heathens',\n",
       "       'Panic! At The Disco'], dtype=object)"
      ]
     },
     "execution_count": 16,
     "metadata": {},
     "output_type": "execute_result"
    }
   ],
   "source": [
    "# pick up the artist name of the music name equal Hurricane\n",
    "artist = df[df['track_name'] == 'Hurricane']\n",
    "artist['artist_name'].values\n"
   ]
  },
  {
   "cell_type": "code",
   "execution_count": 13,
   "metadata": {},
   "outputs": [
    {
     "ename": "TypeError",
     "evalue": "string indices must be integers",
     "output_type": "error",
     "traceback": [
      "\u001b[1;31m---------------------------------------------------------------------------\u001b[0m",
      "\u001b[1;31mTypeError\u001b[0m                                 Traceback (most recent call last)",
      "\u001b[1;32mc:\\Users\\bende\\Documents\\ESILV\\cours A4\\ChatBot\\Project\\visual_data.ipynb Cell 5'\u001b[0m in \u001b[0;36m<cell line: 1>\u001b[1;34m()\u001b[0m\n\u001b[0;32m      <a href='vscode-notebook-cell:/c%3A/Users/bende/Documents/ESILV/cours%20A4/ChatBot/Project/visual_data.ipynb#ch0000008?line=0'>1</a>\u001b[0m \u001b[39mfor\u001b[39;00m data \u001b[39min\u001b[39;00m df:\n\u001b[1;32m----> <a href='vscode-notebook-cell:/c%3A/Users/bende/Documents/ESILV/cours%20A4/ChatBot/Project/visual_data.ipynb#ch0000008?line=1'>2</a>\u001b[0m     \u001b[39mif\u001b[39;00m data[\u001b[39m'\u001b[39;49m\u001b[39mtrack_name\u001b[39;49m\u001b[39m'\u001b[39;49m] \u001b[39m==\u001b[39m \u001b[39m'\u001b[39m\u001b[39mHurricane\u001b[39m\u001b[39m'\u001b[39m:\n\u001b[0;32m      <a href='vscode-notebook-cell:/c%3A/Users/bende/Documents/ESILV/cours%20A4/ChatBot/Project/visual_data.ipynb#ch0000008?line=2'>3</a>\u001b[0m         \u001b[39mprint\u001b[39m(data)\n",
      "\u001b[1;31mTypeError\u001b[0m: string indices must be integers"
     ]
    }
   ],
   "source": [
    "for data in df:\n",
    "    if data['track_name'] == 'Hurricane':\n",
    "        print(data)"
   ]
  },
  {
   "cell_type": "code",
   "execution_count": 23,
   "metadata": {},
   "outputs": [],
   "source": [
    "def test(a,b):\n",
    "    return{'sum': a+b,'sub': a-b,'mul': a*b,'div': a/b}"
   ]
  },
  {
   "cell_type": "code",
   "execution_count": 29,
   "metadata": {},
   "outputs": [
    {
     "data": {
      "text/plain": [
       "13"
      ]
     },
     "execution_count": 29,
     "metadata": {},
     "output_type": "execute_result"
    }
   ],
   "source": [
    "test(3,10)['sum']"
   ]
  },
  {
   "cell_type": "code",
   "execution_count": 2,
   "metadata": {},
   "outputs": [
    {
     "name": "stdout",
     "output_type": "stream",
     "text": [
      "bonjour je suis ici\n",
      "<class 'str'>\n"
     ]
    }
   ],
   "source": [
    "message = 'bonjour je suis ici'\n",
    "\n",
    "#print the message and his type\n",
    "print(message)\n",
    "print(type(message))\n"
   ]
  },
  {
   "cell_type": "code",
   "execution_count": 44,
   "metadata": {},
   "outputs": [
    {
     "name": "stdout",
     "output_type": "stream",
     "text": [
      "0\n"
     ]
    },
    {
     "data": {
      "text/plain": [
       "'your name is benjmain and you are 20 years old'"
      ]
     },
     "execution_count": 44,
     "metadata": {},
     "output_type": "execute_result"
    }
   ],
   "source": [
    "def test_2(name,age):\n",
    "    return_list = []\n",
    "    rd_number = rd.randint(0,1)\n",
    "    print(rd_number)\n",
    "    return_list.append(f\"your name is {name} and you are {age} years old\")\n",
    "    return_list.append(f\"you are named {name} and you are {age}\")\n",
    "    return return_list[rd_number]\n",
    "test_2('benjamin', '20')"
   ]
  },
  {
   "cell_type": "code",
   "execution_count": 5,
   "metadata": {},
   "outputs": [
    {
     "name": "stdout",
     "output_type": "stream",
     "text": [
      "music ['who is the artist of (.*)', 'who whote (.*)']\n"
     ]
    }
   ],
   "source": [
    "datas = {\"music\" : [\n",
    "                    \"who is the artist of (.*)\",\n",
    "                    \"who whote (.*)\"\n",
    "                ]}\n",
    "def test_3(datas):\n",
    "    for i, data in datas.items():\n",
    "        print(i, data)\n",
    "test_3(datas)    "
   ]
  },
  {
   "cell_type": "code",
   "execution_count": 6,
   "metadata": {},
   "outputs": [
    {
     "name": "stdout",
     "output_type": "stream",
     "text": [
      "\u001b[1m bonjour bonjour \u001b[92m\n",
      "hello world !\n"
     ]
    }
   ],
   "source": [
    "A  = 'bonjour'\n",
    "class color:\n",
    "   PURPLE = '\\033[95m'\n",
    "   CYAN = '\\033[96m'\n",
    "   DARKCYAN = '\\033[36m'\n",
    "   BLUE = '\\033[94m'\n",
    "   GREEN = '\\033[92m'\n",
    "   YELLOW = '\\033[93m'\n",
    "   RED = '\\033[91m'\n",
    "   BOLD = '\\033[1m'\n",
    "   UNDERLINE = '\\033[4m'\n",
    "   END = '\\033[0m'\n",
    "\n",
    "print(color.BOLD, f'bonjour {A}', color.GREEN)\n",
    "print('hello world !')"
   ]
  },
  {
   "cell_type": "code",
   "execution_count": 1,
   "metadata": {},
   "outputs": [
    {
     "ename": "NameError",
     "evalue": "name 'df' is not defined",
     "output_type": "error",
     "traceback": [
      "\u001b[1;31m---------------------------------------------------------------------------\u001b[0m",
      "\u001b[1;31mNameError\u001b[0m                                 Traceback (most recent call last)",
      "\u001b[1;32mc:\\Users\\bende\\Documents\\ESILV\\cours A4\\ChatBot\\Project\\tests.ipynb Cell 12'\u001b[0m in \u001b[0;36m<cell line: 2>\u001b[1;34m()\u001b[0m\n\u001b[0;32m      <a href='vscode-notebook-cell:/c%3A/Users/bende/Documents/ESILV/cours%20A4/ChatBot/Project/tests.ipynb#ch0000011?line=0'>1</a>\u001b[0m \u001b[39m#how to count in a dataframe te number of rows where music is equal to Hurricane and artist is equal to the artist name\u001b[39;00m\n\u001b[1;32m----> <a href='vscode-notebook-cell:/c%3A/Users/bende/Documents/ESILV/cours%20A4/ChatBot/Project/tests.ipynb#ch0000011?line=1'>2</a>\u001b[0m df[(df[\u001b[39m'\u001b[39m\u001b[39mmusic\u001b[39m\u001b[39m'\u001b[39m] \u001b[39m==\u001b[39m \u001b[39m'\u001b[39m\u001b[39mHurricane\u001b[39m\u001b[39m'\u001b[39m) \u001b[39m&\u001b[39m (df[\u001b[39m'\u001b[39m\u001b[39martist_name\u001b[39m\u001b[39m'\u001b[39m] \u001b[39m==\u001b[39m \u001b[39m'\u001b[39m\u001b[39mThe Chainsmokers\u001b[39m\u001b[39m'\u001b[39m)]\n\u001b[0;32m      <a href='vscode-notebook-cell:/c%3A/Users/bende/Documents/ESILV/cours%20A4/ChatBot/Project/tests.ipynb#ch0000011?line=2'>3</a>\u001b[0m \u001b[39m#give me all the type variable of my dataset\u001b[39;00m\n\u001b[0;32m      <a href='vscode-notebook-cell:/c%3A/Users/bende/Documents/ESILV/cours%20A4/ChatBot/Project/tests.ipynb#ch0000011?line=3'>4</a>\u001b[0m df\u001b[39m.\u001b[39mdtypes\n",
      "\u001b[1;31mNameError\u001b[0m: name 'df' is not defined"
     ]
    }
   ],
   "source": [
    "#how to count in a dataframe te number of rows where music is equal to Hurricane and artist is equal to the artist name\n",
    "df[(df['music'] == 'Hurricane') & (df['artist_name'] == 'The Chainsmokers')] \n",
    "\n",
    "# convert tempo into float\n",
    "df['tempo'] = df['tempo'].astype(float)"
   ]
  },
  {
   "cell_type": "code",
   "execution_count": 5,
   "metadata": {},
   "outputs": [
    {
     "data": {
      "text/html": [
       "<div>\n",
       "<style scoped>\n",
       "    .dataframe tbody tr th:only-of-type {\n",
       "        vertical-align: middle;\n",
       "    }\n",
       "\n",
       "    .dataframe tbody tr th {\n",
       "        vertical-align: top;\n",
       "    }\n",
       "\n",
       "    .dataframe thead th {\n",
       "        text-align: right;\n",
       "    }\n",
       "</style>\n",
       "<table border=\"1\" class=\"dataframe\">\n",
       "  <thead>\n",
       "    <tr style=\"text-align: right;\">\n",
       "      <th></th>\n",
       "      <th>a</th>\n",
       "      <th>b</th>\n",
       "      <th>c</th>\n",
       "    </tr>\n",
       "  </thead>\n",
       "  <tbody>\n",
       "    <tr>\n",
       "      <th>0</th>\n",
       "      <td>1</td>\n",
       "      <td>2</td>\n",
       "      <td>3</td>\n",
       "    </tr>\n",
       "    <tr>\n",
       "      <th>1</th>\n",
       "      <td>2</td>\n",
       "      <td>3</td>\n",
       "      <td>4</td>\n",
       "    </tr>\n",
       "    <tr>\n",
       "      <th>2</th>\n",
       "      <td>3</td>\n",
       "      <td>4</td>\n",
       "      <td>5</td>\n",
       "    </tr>\n",
       "  </tbody>\n",
       "</table>\n",
       "</div>"
      ],
      "text/plain": [
       "   a  b  c\n",
       "0  1  2  3\n",
       "1  2  3  4\n",
       "2  3  4  5"
      ]
     },
     "execution_count": 5,
     "metadata": {},
     "output_type": "execute_result"
    }
   ],
   "source": [
    "#how to convert a dict into a dataframe\n",
    "import pandas as pd\n",
    "d = {'a': [1,2,3], 'b': [2,3,4], 'c': [3,4,5]}\n",
    "df = pd.DataFrame(d)\n",
    "\n",
    "df\n",
    "#add a line instance to my dataframe\n",
    "df.loc[len(df)] = [4,5,6]\n",
    "#how to add a column to my dataframe\n",
    "df['d'] = [4,5,6]\n",
    "\n",
    "#how to append a "
   ]
  },
  {
   "cell_type": "code",
   "execution_count": 7,
   "metadata": {},
   "outputs": [
    {
     "name": "stdout",
     "output_type": "stream",
     "text": [
      "[{'a': 3, 'b': 6, 'c': 9}, {'a': 9, 'b': 18, 'c': 27}, {'a': 2, 'b': 4, 'c': 6}, {'a': 7, 'b': 14, 'c': 21}, {'a': 1, 'b': 2, 'c': 3}, {'a': 6, 'b': 12, 'c': 18}, {'a': 0, 'b': 0, 'c': 0}, {'a': 5, 'b': 10, 'c': 15}, {'a': 4, 'b': 8, 'c': 12}, {'a': 8, 'b': 16, 'c': 24}]\n"
     ]
    }
   ],
   "source": [
    "#create a list of dict of random data\n",
    "import random as rd\n",
    "list_of_dict = []\n",
    "for i in range(10):\n",
    "    list_of_dict.append({'a': i, 'b': i*2, 'c': i*3})\n",
    "\n",
    "#shuffle the list\n",
    "rd.shuffle(list_of_dict)\n",
    "print (list_of_dict)"
   ]
  },
  {
   "cell_type": "code",
   "execution_count": 9,
   "metadata": {},
   "outputs": [],
   "source": [
    "def clean_up_string(string):\n",
    "    #clean string drop the potential question mark at the end of the music name\n",
    "    if ' ?' in string:\n",
    "        string = string.replace(' ?','')\n",
    "    elif '?' in string:\n",
    "        string = string.replace('?','')\n",
    "    return string"
   ]
  },
  {
   "cell_type": "code",
   "execution_count": 11,
   "metadata": {},
   "outputs": [
    {
     "data": {
      "text/plain": [
       "'Hurricane wrote by Dillon Francis'"
      ]
     },
     "execution_count": 11,
     "metadata": {},
     "output_type": "execute_result"
    }
   ],
   "source": [
    "test = clean_up_string('Hurricane wrote by Dillon Francis ?')\n",
    "test"
   ]
  },
  {
   "cell_type": "code",
   "execution_count": 2,
   "metadata": {},
   "outputs": [
    {
     "name": "stdout",
     "output_type": "stream",
     "text": [
      "0 0 0\n"
     ]
    }
   ],
   "source": [
    "a, b, c = 0, 0, 0\n",
    "\n",
    "print(a, b, c)"
   ]
  },
  {
   "cell_type": "code",
   "execution_count": 3,
   "metadata": {},
   "outputs": [
    {
     "name": "stdout",
     "output_type": "stream",
     "text": [
      "4 8 16\n"
     ]
    }
   ],
   "source": [
    "def test_4(d):\n",
    "    a = d**2\n",
    "    b = d**3\n",
    "    c = d**4\n",
    "    return a, b, c\n",
    "\n",
    "a, b, c = test_4(2)\n",
    "print(a, b, c)"
   ]
  },
  {
   "cell_type": "code",
   "execution_count": 48,
   "metadata": {},
   "outputs": [
    {
     "name": "stdout",
     "output_type": "stream",
     "text": [
      "true\n"
     ]
    }
   ],
   "source": []
  }
 ],
 "metadata": {
  "interpreter": {
   "hash": "2be5faf79681da6f2a61fdfdd5405d65d042280f7fba6178067603e3a2925119"
  },
  "kernelspec": {
   "display_name": "Python 3.10.1 64-bit",
   "language": "python",
   "name": "python3"
  },
  "language_info": {
   "codemirror_mode": {
    "name": "ipython",
    "version": 3
   },
   "file_extension": ".py",
   "mimetype": "text/x-python",
   "name": "python",
   "nbconvert_exporter": "python",
   "pygments_lexer": "ipython3",
   "version": "3.10.1"
  },
  "orig_nbformat": 4
 },
 "nbformat": 4,
 "nbformat_minor": 2
}
