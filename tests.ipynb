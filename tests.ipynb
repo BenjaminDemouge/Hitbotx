{
 "cells": [
  {
   "cell_type": "code",
   "execution_count": 7,
   "metadata": {},
   "outputs": [],
   "source": [
    "import pandas as pd\n",
    "import numpy as np\n",
    "import random as rd"
   ]
  },
  {
   "cell_type": "code",
   "execution_count": 8,
   "metadata": {},
   "outputs": [],
   "source": [
    "df = pd.read_csv('music_genre.csv')"
   ]
  },
  {
   "cell_type": "code",
   "execution_count": 9,
   "metadata": {},
   "outputs": [
    {
     "data": {
      "text/html": [
       "<div>\n",
       "<style scoped>\n",
       "    .dataframe tbody tr th:only-of-type {\n",
       "        vertical-align: middle;\n",
       "    }\n",
       "\n",
       "    .dataframe tbody tr th {\n",
       "        vertical-align: top;\n",
       "    }\n",
       "\n",
       "    .dataframe thead th {\n",
       "        text-align: right;\n",
       "    }\n",
       "</style>\n",
       "<table border=\"1\" class=\"dataframe\">\n",
       "  <thead>\n",
       "    <tr style=\"text-align: right;\">\n",
       "      <th></th>\n",
       "      <th>instance_id</th>\n",
       "      <th>artist_name</th>\n",
       "      <th>track_name</th>\n",
       "      <th>popularity</th>\n",
       "      <th>danceability</th>\n",
       "      <th>duration_ms</th>\n",
       "      <th>energy</th>\n",
       "      <th>tempo</th>\n",
       "      <th>music_genre</th>\n",
       "    </tr>\n",
       "  </thead>\n",
       "  <tbody>\n",
       "    <tr>\n",
       "      <th>0</th>\n",
       "      <td>32894.0</td>\n",
       "      <td>Röyksopp</td>\n",
       "      <td>Röyksopp's Night Out</td>\n",
       "      <td>27.0</td>\n",
       "      <td>0.652</td>\n",
       "      <td>-1.0</td>\n",
       "      <td>0.941</td>\n",
       "      <td>100.889</td>\n",
       "      <td>Electronic</td>\n",
       "    </tr>\n",
       "    <tr>\n",
       "      <th>1</th>\n",
       "      <td>46652.0</td>\n",
       "      <td>Thievery Corporation</td>\n",
       "      <td>The Shining Path</td>\n",
       "      <td>31.0</td>\n",
       "      <td>0.622</td>\n",
       "      <td>218293.0</td>\n",
       "      <td>0.890</td>\n",
       "      <td>115.00200000000001</td>\n",
       "      <td>Electronic</td>\n",
       "    </tr>\n",
       "    <tr>\n",
       "      <th>2</th>\n",
       "      <td>30097.0</td>\n",
       "      <td>Dillon Francis</td>\n",
       "      <td>Hurricane</td>\n",
       "      <td>28.0</td>\n",
       "      <td>0.620</td>\n",
       "      <td>215613.0</td>\n",
       "      <td>0.755</td>\n",
       "      <td>127.994</td>\n",
       "      <td>Electronic</td>\n",
       "    </tr>\n",
       "    <tr>\n",
       "      <th>3</th>\n",
       "      <td>62177.0</td>\n",
       "      <td>Dubloadz</td>\n",
       "      <td>Nitro</td>\n",
       "      <td>34.0</td>\n",
       "      <td>0.774</td>\n",
       "      <td>166875.0</td>\n",
       "      <td>0.700</td>\n",
       "      <td>128.014</td>\n",
       "      <td>Electronic</td>\n",
       "    </tr>\n",
       "    <tr>\n",
       "      <th>4</th>\n",
       "      <td>24907.0</td>\n",
       "      <td>What So Not</td>\n",
       "      <td>Divide &amp; Conquer</td>\n",
       "      <td>32.0</td>\n",
       "      <td>0.638</td>\n",
       "      <td>222369.0</td>\n",
       "      <td>0.587</td>\n",
       "      <td>145.036</td>\n",
       "      <td>Electronic</td>\n",
       "    </tr>\n",
       "  </tbody>\n",
       "</table>\n",
       "</div>"
      ],
      "text/plain": [
       "   instance_id           artist_name            track_name  popularity  \\\n",
       "0      32894.0              Röyksopp  Röyksopp's Night Out        27.0   \n",
       "1      46652.0  Thievery Corporation      The Shining Path        31.0   \n",
       "2      30097.0        Dillon Francis             Hurricane        28.0   \n",
       "3      62177.0              Dubloadz                 Nitro        34.0   \n",
       "4      24907.0           What So Not      Divide & Conquer        32.0   \n",
       "\n",
       "   danceability  duration_ms  energy               tempo music_genre  \n",
       "0         0.652         -1.0   0.941             100.889  Electronic  \n",
       "1         0.622     218293.0   0.890  115.00200000000001  Electronic  \n",
       "2         0.620     215613.0   0.755             127.994  Electronic  \n",
       "3         0.774     166875.0   0.700             128.014  Electronic  \n",
       "4         0.638     222369.0   0.587             145.036  Electronic  "
      ]
     },
     "execution_count": 9,
     "metadata": {},
     "output_type": "execute_result"
    }
   ],
   "source": [
    "df = df.drop(['acousticness','instrumentalness','key','liveness','loudness','mode','speechiness','obtained_date','valence'], axis=1)\n",
    "df.head()"
   ]
  },
  {
   "cell_type": "code",
   "execution_count": 16,
   "metadata": {},
   "outputs": [
    {
     "data": {
      "text/plain": [
       "array(['Dillon Francis', 'Eprom', 'Theory of a Deadman', 'Grizfolk',\n",
       "       'Dustin Lynch', 'The Band Of Heathens', 'Luke Combs',\n",
       "       'Possessed by Paul James', 'The Band Of Heathens',\n",
       "       'Panic! At The Disco'], dtype=object)"
      ]
     },
     "execution_count": 16,
     "metadata": {},
     "output_type": "execute_result"
    }
   ],
   "source": [
    "# pick up the artist name of the music name equal Hurricane\n",
    "artist = df[df['track_name'] == 'Hurricane']\n",
    "artist['artist_name'].values\n"
   ]
  },
  {
   "cell_type": "code",
   "execution_count": 13,
   "metadata": {},
   "outputs": [
    {
     "ename": "TypeError",
     "evalue": "string indices must be integers",
     "output_type": "error",
     "traceback": [
      "\u001b[1;31m---------------------------------------------------------------------------\u001b[0m",
      "\u001b[1;31mTypeError\u001b[0m                                 Traceback (most recent call last)",
      "\u001b[1;32mc:\\Users\\bende\\Documents\\ESILV\\cours A4\\ChatBot\\Project\\visual_data.ipynb Cell 5'\u001b[0m in \u001b[0;36m<cell line: 1>\u001b[1;34m()\u001b[0m\n\u001b[0;32m      <a href='vscode-notebook-cell:/c%3A/Users/bende/Documents/ESILV/cours%20A4/ChatBot/Project/visual_data.ipynb#ch0000008?line=0'>1</a>\u001b[0m \u001b[39mfor\u001b[39;00m data \u001b[39min\u001b[39;00m df:\n\u001b[1;32m----> <a href='vscode-notebook-cell:/c%3A/Users/bende/Documents/ESILV/cours%20A4/ChatBot/Project/visual_data.ipynb#ch0000008?line=1'>2</a>\u001b[0m     \u001b[39mif\u001b[39;00m data[\u001b[39m'\u001b[39;49m\u001b[39mtrack_name\u001b[39;49m\u001b[39m'\u001b[39;49m] \u001b[39m==\u001b[39m \u001b[39m'\u001b[39m\u001b[39mHurricane\u001b[39m\u001b[39m'\u001b[39m:\n\u001b[0;32m      <a href='vscode-notebook-cell:/c%3A/Users/bende/Documents/ESILV/cours%20A4/ChatBot/Project/visual_data.ipynb#ch0000008?line=2'>3</a>\u001b[0m         \u001b[39mprint\u001b[39m(data)\n",
      "\u001b[1;31mTypeError\u001b[0m: string indices must be integers"
     ]
    }
   ],
   "source": [
    "for data in df:\n",
    "    if data['track_name'] == 'Hurricane':\n",
    "        print(data)"
   ]
  },
  {
   "cell_type": "code",
   "execution_count": 23,
   "metadata": {},
   "outputs": [],
   "source": [
    "def test(a,b):\n",
    "    return{'sum': a+b,'sub': a-b,'mul': a*b,'div': a/b}"
   ]
  },
  {
   "cell_type": "code",
   "execution_count": 29,
   "metadata": {},
   "outputs": [
    {
     "data": {
      "text/plain": [
       "13"
      ]
     },
     "execution_count": 29,
     "metadata": {},
     "output_type": "execute_result"
    }
   ],
   "source": [
    "test(3,10)['sum']"
   ]
  },
  {
   "cell_type": "code",
   "execution_count": 2,
   "metadata": {},
   "outputs": [
    {
     "name": "stdout",
     "output_type": "stream",
     "text": [
      "bonjour je suis ici\n",
      "<class 'str'>\n"
     ]
    }
   ],
   "source": [
    "message = 'bonjour je suis ici'\n",
    "\n",
    "#print the message and his type\n",
    "print(message)\n",
    "print(type(message))\n"
   ]
  },
  {
   "cell_type": "code",
   "execution_count": 44,
   "metadata": {},
   "outputs": [
    {
     "name": "stdout",
     "output_type": "stream",
     "text": [
      "0\n"
     ]
    },
    {
     "data": {
      "text/plain": [
       "'your name is benjmain and you are 20 years old'"
      ]
     },
     "execution_count": 44,
     "metadata": {},
     "output_type": "execute_result"
    }
   ],
   "source": [
    "def test_2(name,age):\n",
    "    return_list = []\n",
    "    rd_number = rd.randint(0,1)\n",
    "    print(rd_number)\n",
    "    return_list.append(f\"your name is {name} and you are {age} years old\")\n",
    "    return_list.append(f\"you are named {name} and you are {age}\")\n",
    "    return return_list[rd_number]\n",
    "test_2('benjamin', '20')"
   ]
  },
  {
   "cell_type": "code",
   "execution_count": 5,
   "metadata": {},
   "outputs": [
    {
     "name": "stdout",
     "output_type": "stream",
     "text": [
      "music ['who is the artist of (.*)', 'who whote (.*)']\n"
     ]
    }
   ],
   "source": [
    "datas = {\"music\" : [\n",
    "                    \"who is the artist of (.*)\",\n",
    "                    \"who whote (.*)\"\n",
    "                ]}\n",
    "def test_3(datas):\n",
    "    for i, data in datas.items():\n",
    "        print(i, data)\n",
    "test_3(datas)    "
   ]
  },
  {
   "cell_type": "code",
   "execution_count": 6,
   "metadata": {},
   "outputs": [
    {
     "name": "stdout",
     "output_type": "stream",
     "text": [
      "\u001b[1m bonjour bonjour \u001b[92m\n",
      "hello world !\n"
     ]
    }
   ],
   "source": [
    "A  = 'bonjour'\n",
    "class color:\n",
    "   PURPLE = '\\033[95m'\n",
    "   CYAN = '\\033[96m'\n",
    "   DARKCYAN = '\\033[36m'\n",
    "   BLUE = '\\033[94m'\n",
    "   GREEN = '\\033[92m'\n",
    "   YELLOW = '\\033[93m'\n",
    "   RED = '\\033[91m'\n",
    "   BOLD = '\\033[1m'\n",
    "   UNDERLINE = '\\033[4m'\n",
    "   END = '\\033[0m'\n",
    "\n",
    "print(color.BOLD, f'bonjour {A}', color.GREEN)\n",
    "print('hello world !')"
   ]
  },
  {
   "cell_type": "code",
   "execution_count": 1,
   "metadata": {},
   "outputs": [
    {
     "ename": "NameError",
     "evalue": "name 'df' is not defined",
     "output_type": "error",
     "traceback": [
      "\u001b[1;31m---------------------------------------------------------------------------\u001b[0m",
      "\u001b[1;31mNameError\u001b[0m                                 Traceback (most recent call last)",
      "\u001b[1;32mc:\\Users\\bende\\Documents\\ESILV\\cours A4\\ChatBot\\Project\\tests.ipynb Cell 12'\u001b[0m in \u001b[0;36m<cell line: 2>\u001b[1;34m()\u001b[0m\n\u001b[0;32m      <a href='vscode-notebook-cell:/c%3A/Users/bende/Documents/ESILV/cours%20A4/ChatBot/Project/tests.ipynb#ch0000011?line=0'>1</a>\u001b[0m \u001b[39m#how to count in a dataframe te number of rows where music is equal to Hurricane and artist is equal to the artist name\u001b[39;00m\n\u001b[1;32m----> <a href='vscode-notebook-cell:/c%3A/Users/bende/Documents/ESILV/cours%20A4/ChatBot/Project/tests.ipynb#ch0000011?line=1'>2</a>\u001b[0m df[(df[\u001b[39m'\u001b[39m\u001b[39mmusic\u001b[39m\u001b[39m'\u001b[39m] \u001b[39m==\u001b[39m \u001b[39m'\u001b[39m\u001b[39mHurricane\u001b[39m\u001b[39m'\u001b[39m) \u001b[39m&\u001b[39m (df[\u001b[39m'\u001b[39m\u001b[39martist_name\u001b[39m\u001b[39m'\u001b[39m] \u001b[39m==\u001b[39m \u001b[39m'\u001b[39m\u001b[39mThe Chainsmokers\u001b[39m\u001b[39m'\u001b[39m)]\n\u001b[0;32m      <a href='vscode-notebook-cell:/c%3A/Users/bende/Documents/ESILV/cours%20A4/ChatBot/Project/tests.ipynb#ch0000011?line=2'>3</a>\u001b[0m \u001b[39m#give me all the type variable of my dataset\u001b[39;00m\n\u001b[0;32m      <a href='vscode-notebook-cell:/c%3A/Users/bende/Documents/ESILV/cours%20A4/ChatBot/Project/tests.ipynb#ch0000011?line=3'>4</a>\u001b[0m df\u001b[39m.\u001b[39mdtypes\n",
      "\u001b[1;31mNameError\u001b[0m: name 'df' is not defined"
     ]
    }
   ],
   "source": [
    "#how to count in a dataframe te number of rows where music is equal to Hurricane and artist is equal to the artist name\n",
    "df[(df['music'] == 'Hurricane') & (df['artist_name'] == 'The Chainsmokers')] \n",
    "\n",
    "# convert tempo into float\n",
    "df['tempo'] = df['tempo'].astype(float)"
   ]
  },
  {
   "cell_type": "code",
   "execution_count": 5,
   "metadata": {},
   "outputs": [
    {
     "data": {
      "text/html": [
       "<div>\n",
       "<style scoped>\n",
       "    .dataframe tbody tr th:only-of-type {\n",
       "        vertical-align: middle;\n",
       "    }\n",
       "\n",
       "    .dataframe tbody tr th {\n",
       "        vertical-align: top;\n",
       "    }\n",
       "\n",
       "    .dataframe thead th {\n",
       "        text-align: right;\n",
       "    }\n",
       "</style>\n",
       "<table border=\"1\" class=\"dataframe\">\n",
       "  <thead>\n",
       "    <tr style=\"text-align: right;\">\n",
       "      <th></th>\n",
       "      <th>a</th>\n",
       "      <th>b</th>\n",
       "      <th>c</th>\n",
       "    </tr>\n",
       "  </thead>\n",
       "  <tbody>\n",
       "    <tr>\n",
       "      <th>0</th>\n",
       "      <td>1</td>\n",
       "      <td>2</td>\n",
       "      <td>3</td>\n",
       "    </tr>\n",
       "    <tr>\n",
       "      <th>1</th>\n",
       "      <td>2</td>\n",
       "      <td>3</td>\n",
       "      <td>4</td>\n",
       "    </tr>\n",
       "    <tr>\n",
       "      <th>2</th>\n",
       "      <td>3</td>\n",
       "      <td>4</td>\n",
       "      <td>5</td>\n",
       "    </tr>\n",
       "  </tbody>\n",
       "</table>\n",
       "</div>"
      ],
      "text/plain": [
       "   a  b  c\n",
       "0  1  2  3\n",
       "1  2  3  4\n",
       "2  3  4  5"
      ]
     },
     "execution_count": 5,
     "metadata": {},
     "output_type": "execute_result"
    }
   ],
   "source": [
    "#how to convert a dict into a dataframe\n",
    "import pandas as pd\n",
    "d = {'a': [1,2,3], 'b': [2,3,4], 'c': [3,4,5]}\n",
    "df = pd.DataFrame(d)\n",
    "\n",
    "df\n",
    "#add a line instance to my dataframe\n",
    "df.loc[len(df)] = [4,5,6]\n",
    "#how to add a column to my dataframe\n",
    "df['d'] = [4,5,6]\n",
    "\n",
    "#how to append a "
   ]
  },
  {
   "cell_type": "code",
   "execution_count": 7,
   "metadata": {},
   "outputs": [
    {
     "name": "stdout",
     "output_type": "stream",
     "text": [
      "[{'a': 3, 'b': 6, 'c': 9}, {'a': 9, 'b': 18, 'c': 27}, {'a': 2, 'b': 4, 'c': 6}, {'a': 7, 'b': 14, 'c': 21}, {'a': 1, 'b': 2, 'c': 3}, {'a': 6, 'b': 12, 'c': 18}, {'a': 0, 'b': 0, 'c': 0}, {'a': 5, 'b': 10, 'c': 15}, {'a': 4, 'b': 8, 'c': 12}, {'a': 8, 'b': 16, 'c': 24}]\n"
     ]
    }
   ],
   "source": [
    "#create a list of dict of random data\n",
    "import random as rd\n",
    "list_of_dict = []\n",
    "for i in range(10):\n",
    "    list_of_dict.append({'a': i, 'b': i*2, 'c': i*3})\n",
    "\n",
    "#shuffle the list\n",
    "rd.shuffle(list_of_dict)\n",
    "print (list_of_dict)"
   ]
  },
  {
   "cell_type": "code",
   "execution_count": 9,
   "metadata": {},
   "outputs": [],
   "source": [
    "def clean_up_string(string):\n",
    "    #clean string drop the potential question mark at the end of the music name\n",
    "    if ' ?' in string:\n",
    "        string = string.replace(' ?','')\n",
    "    elif '?' in string:\n",
    "        string = string.replace('?','')\n",
    "    return string"
   ]
  },
  {
   "cell_type": "code",
   "execution_count": 11,
   "metadata": {},
   "outputs": [
    {
     "data": {
      "text/plain": [
       "'Hurricane wrote by Dillon Francis'"
      ]
     },
     "execution_count": 11,
     "metadata": {},
     "output_type": "execute_result"
    }
   ],
   "source": [
    "test = clean_up_string('Hurricane wrote by Dillon Francis ?')\n",
    "test"
   ]
  }
 ],
 "metadata": {
  "interpreter": {
   "hash": "2be5faf79681da6f2a61fdfdd5405d65d042280f7fba6178067603e3a2925119"
  },
  "kernelspec": {
   "display_name": "Python 3.10.1 64-bit",
   "language": "python",
   "name": "python3"
  },
  "language_info": {
   "codemirror_mode": {
    "name": "ipython",
    "version": 3
   },
   "file_extension": ".py",
   "mimetype": "text/x-python",
   "name": "python",
   "nbconvert_exporter": "python",
   "pygments_lexer": "ipython3",
   "version": "3.10.1"
  },
  "orig_nbformat": 4
 },
 "nbformat": 4,
 "nbformat_minor": 2
}
